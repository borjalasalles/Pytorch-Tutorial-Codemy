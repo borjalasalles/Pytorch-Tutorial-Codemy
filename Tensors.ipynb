{
  "nbformat": 4,
  "nbformat_minor": 0,
  "metadata": {
    "colab": {
      "provenance": [],
      "authorship_tag": "ABX9TyO8mTWPl84pZOaSSHgERbdX",
      "include_colab_link": true
    },
    "kernelspec": {
      "name": "python3",
      "display_name": "Python 3"
    },
    "language_info": {
      "name": "python"
    }
  },
  "cells": [
    {
      "cell_type": "markdown",
      "metadata": {
        "id": "view-in-github",
        "colab_type": "text"
      },
      "source": [
        "<a href=\"https://colab.research.google.com/github/borjalasalles/Pytorch-Tutorial-Codemy/blob/main/Tensors.ipynb\" target=\"_parent\"><img src=\"https://colab.research.google.com/assets/colab-badge.svg\" alt=\"Open In Colab\"/></a>"
      ]
    },
    {
      "cell_type": "code",
      "execution_count": 7,
      "metadata": {
        "id": "95Q9jhjaUf7Z"
      },
      "outputs": [],
      "source": [
        "import torch\n",
        "import numpy as np"
      ]
    },
    {
      "cell_type": "code",
      "source": [
        "tensor_2d = torch.randn(3,4)\n",
        "tensor_2d"
      ],
      "metadata": {
        "colab": {
          "base_uri": "https://localhost:8080/"
        },
        "id": "2exVOL83Uskr",
        "outputId": "7f2fc4f3-3bcc-4225-945e-e75d69b83451"
      },
      "execution_count": 3,
      "outputs": [
        {
          "output_type": "execute_result",
          "data": {
            "text/plain": [
              "tensor([[-0.8081,  1.3312,  1.2536, -0.3958],\n",
              "        [-2.3419, -0.2378,  1.5370, -0.6330],\n",
              "        [ 1.2720, -0.5196,  0.0250,  0.7642]])"
            ]
          },
          "metadata": {},
          "execution_count": 3
        }
      ]
    },
    {
      "cell_type": "code",
      "source": [
        "tensor_3d = torch.zeros(2,3,4)\n",
        "tensor_3d"
      ],
      "metadata": {
        "colab": {
          "base_uri": "https://localhost:8080/"
        },
        "id": "zwYihIHRUwrO",
        "outputId": "8ab28fd5-6663-487a-e418-31fe3d80d2c0"
      },
      "execution_count": 6,
      "outputs": [
        {
          "output_type": "execute_result",
          "data": {
            "text/plain": [
              "tensor([[[0., 0., 0., 0.],\n",
              "         [0., 0., 0., 0.],\n",
              "         [0., 0., 0., 0.]],\n",
              "\n",
              "        [[0., 0., 0., 0.],\n",
              "         [0., 0., 0., 0.],\n",
              "         [0., 0., 0., 0.]]])"
            ]
          },
          "metadata": {},
          "execution_count": 6
        }
      ]
    },
    {
      "cell_type": "code",
      "source": [
        "tensor_3d.dtype"
      ],
      "metadata": {
        "colab": {
          "base_uri": "https://localhost:8080/"
        },
        "id": "sGckNNWWWbJ6",
        "outputId": "9475a859-f97a-45b5-c35d-5249f2470a2b"
      },
      "execution_count": 11,
      "outputs": [
        {
          "output_type": "execute_result",
          "data": {
            "text/plain": [
              "torch.float32"
            ]
          },
          "metadata": {},
          "execution_count": 11
        }
      ]
    },
    {
      "cell_type": "code",
      "source": [
        "np1 = np.random.rand(3,4)\n",
        "np1"
      ],
      "metadata": {
        "colab": {
          "base_uri": "https://localhost:8080/"
        },
        "id": "vZvprM5EV8XI",
        "outputId": "84bcd21d-53f2-476a-d887-13831ff3e391"
      },
      "execution_count": 8,
      "outputs": [
        {
          "output_type": "execute_result",
          "data": {
            "text/plain": [
              "array([[0.9579899 , 0.59786259, 0.83368455, 0.11172089],\n",
              "       [0.00647438, 0.36834961, 0.27698072, 0.65744457],\n",
              "       [0.95880693, 0.77220036, 0.86706144, 0.81492508]])"
            ]
          },
          "metadata": {},
          "execution_count": 8
        }
      ]
    },
    {
      "cell_type": "code",
      "source": [
        "# Create a tensor out of numpy array\n",
        "my_tensor = torch.tensor(np1)\n",
        "my_tensor"
      ],
      "metadata": {
        "colab": {
          "base_uri": "https://localhost:8080/"
        },
        "id": "CLob7VUTWEqC",
        "outputId": "9b4cbf2b-c146-428c-8286-e114462b8513"
      },
      "execution_count": 9,
      "outputs": [
        {
          "output_type": "execute_result",
          "data": {
            "text/plain": [
              "tensor([[0.9580, 0.5979, 0.8337, 0.1117],\n",
              "        [0.0065, 0.3683, 0.2770, 0.6574],\n",
              "        [0.9588, 0.7722, 0.8671, 0.8149]], dtype=torch.float64)"
            ]
          },
          "metadata": {},
          "execution_count": 9
        }
      ]
    },
    {
      "cell_type": "code",
      "source": [
        "tensor_a = torch.tensor([1,2,3,4])\n",
        "tensor_b = torch.tensor([5,6,7,8])\n",
        "\n",
        "print(tensor_a + tensor_b)\n",
        "print(tensor_a - tensor_b)\n",
        "print(tensor_a * tensor_b)\n",
        "print(tensor_b / tensor_a)\n",
        "print(f'Remainder:{tensor_b % tensor_a}')\n",
        "print(f'INT Multiplication:{tensor_b // tensor_a}')\n",
        "print(f'Power:{torch.pow(tensor_a, tensor_b)}')"
      ],
      "metadata": {
        "colab": {
          "base_uri": "https://localhost:8080/"
        },
        "id": "a2VTLTbxWgo_",
        "outputId": "fc908403-5bb4-4460-8d8d-9a111a6106cb"
      },
      "execution_count": 18,
      "outputs": [
        {
          "output_type": "stream",
          "name": "stdout",
          "text": [
            "tensor([ 6,  8, 10, 12])\n",
            "tensor([-4, -4, -4, -4])\n",
            "tensor([ 5, 12, 21, 32])\n",
            "tensor([5.0000, 3.0000, 2.3333, 2.0000])\n",
            "Remainder:tensor([0, 0, 1, 0])\n",
            "INT Multiplication:tensor([5, 3, 2, 2])\n",
            "Power:tensor([    1,    64,  2187, 65536])\n"
          ]
        }
      ]
    },
    {
      "cell_type": "code",
      "source": [
        "# Reassingment\n",
        "# long way --- tensor_a = tensor_a + tensor_b\n",
        "tensor_a.add_(tensor_b)\n",
        "tensor_a"
      ],
      "metadata": {
        "colab": {
          "base_uri": "https://localhost:8080/"
        },
        "id": "P6dyra7scwAs",
        "outputId": "679ed049-d5a6-4dfb-fcd9-5b89d232075a"
      },
      "execution_count": 19,
      "outputs": [
        {
          "output_type": "execute_result",
          "data": {
            "text/plain": [
              "tensor([ 6,  8, 10, 12])"
            ]
          },
          "metadata": {},
          "execution_count": 19
        }
      ]
    }
  ]
}